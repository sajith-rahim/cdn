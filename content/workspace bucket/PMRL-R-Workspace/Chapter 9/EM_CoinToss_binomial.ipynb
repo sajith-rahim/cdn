{
  "nbformat": 4,
  "nbformat_minor": 0,
  "metadata": {
    "colab": {
      "name": "EM-CoinToss-binomial.ipynb",
      "provenance": [],
      "collapsed_sections": []
    },
    "kernelspec": {
      "name": "python3",
      "display_name": "Python 3"
    }
  },
  "cells": [
    {
      "cell_type": "code",
      "metadata": {
        "id": "tFa1fsvi7e7Z",
        "colab_type": "code",
        "colab": {
          "base_uri": "https://localhost:8080/",
          "height": 72
        },
        "outputId": "048f3fad-64b9-4659-8ac1-4f00410454d7"
      },
      "source": [
        "import os\n",
        "import sys\n",
        "import glob\n",
        "import matplotlib.pyplot as plt\n",
        "import numpy as np\n",
        "import pandas as pd\n",
        "%matplotlib inline\n",
        "plt.style.use('ggplot')\n",
        "np.random.seed(1234)\n",
        "\n",
        "np.set_printoptions(formatter={'all':lambda x: '%.3f' % x})\n",
        "\n",
        "from IPython.display import Image\n",
        "from numpy.core.umath_tests import matrix_multiply as mm\n",
        "\n",
        "from scipy.optimize import minimize\n",
        "from scipy.stats import bernoulli, binom"
      ],
      "execution_count": 11,
      "outputs": [
        {
          "output_type": "stream",
          "text": [
            "/usr/local/lib/python3.6/dist-packages/ipykernel_launcher.py:14: DeprecationWarning: numpy.core.umath_tests is an internal NumPy module and should not be imported. It will be removed in a future NumPy release.\n",
            "  \n"
          ],
          "name": "stderr"
        }
      ]
    },
    {
      "cell_type": "code",
      "metadata": {
        "id": "IS_J65qY7Rzq",
        "colab_type": "code",
        "colab": {}
      },
      "source": [
        "m = 10\n",
        "theta_A = 0.8\n",
        "theta_B = 0.3\n",
        "theta_0 = [theta_A, theta_B]\n",
        "\n",
        "coin_A = bernoulli(theta_A)\n",
        "coin_B = bernoulli(theta_B)\n",
        "\n",
        "xs = map(sum, [coin_A.rvs(m), coin_A.rvs(m), coin_B.rvs(m), coin_A.rvs(m), coin_B.rvs(m)])\n",
        "zs = [0, 0, 1, 0, 1]\n"
      ],
      "execution_count": 41,
      "outputs": []
    },
    {
      "cell_type": "code",
      "metadata": {
        "id": "jBqwCZKp8g3M",
        "colab_type": "code",
        "colab": {
          "base_uri": "https://localhost:8080/",
          "height": 35
        },
        "outputId": "e0eed81a-3710-4a60-ad0f-acb12c7e2cb0"
      },
      "source": [
        "xs =  np.fromiter(xs, dtype=np.int)\n",
        "xs"
      ],
      "execution_count": 47,
      "outputs": [
        {
          "output_type": "execute_result",
          "data": {
            "text/plain": [
              "array([8.000, 9.000, 3.000, 7.000, 5.000])"
            ]
          },
          "metadata": {
            "tags": []
          },
          "execution_count": 47
        }
      ]
    },
    {
      "cell_type": "markdown",
      "metadata": {
        "id": "kVM0ftSc-TiJ",
        "colab_type": "text"
      },
      "source": [
        "# Exact Solution"
      ]
    },
    {
      "cell_type": "code",
      "metadata": {
        "id": "zau6D2Ca8420",
        "colab_type": "code",
        "colab": {
          "base_uri": "https://localhost:8080/",
          "height": 35
        },
        "outputId": "5abf0317-2c4b-4d01-9ae0-312218da03c4"
      },
      "source": [
        "ml_A = np.sum(xs[[0,1,3]])/(3.0*m)\n",
        "ml_B = np.sum(xs[[2,4]])/(2.0*m)\n",
        "ml_A, ml_B"
      ],
      "execution_count": 43,
      "outputs": [
        {
          "output_type": "execute_result",
          "data": {
            "text/plain": [
              "(0.8, 0.4)"
            ]
          },
          "metadata": {
            "tags": []
          },
          "execution_count": 43
        }
      ]
    },
    {
      "cell_type": "markdown",
      "metadata": {
        "id": "84aamU0l-KS4",
        "colab_type": "text"
      },
      "source": [
        "# Numerical Estimate"
      ]
    },
    {
      "cell_type": "code",
      "metadata": {
        "id": "L7iXNgyE_H8A",
        "colab_type": "code",
        "colab": {}
      },
      "source": [
        "def neg_loglik(thetas, n, xs, zs):\n",
        "    return -np.sum([binom(n, thetas[z]).logpmf(x) for (x, z) in zip(xs, zs)])"
      ],
      "execution_count": null,
      "outputs": []
    },
    {
      "cell_type": "code",
      "metadata": {
        "id": "59DfwNs09_61",
        "colab_type": "code",
        "colab": {
          "base_uri": "https://localhost:8080/",
          "height": 156
        },
        "outputId": "af1fb375-544f-4047-c822-7ff70062f95f"
      },
      "source": [
        "bnds = [(0,1), (0,1)]\n",
        "minimize(neg_loglik, [0.5, 0.5], args=(m, xs, zs),\n",
        "         bounds=bnds, method='tnc', options={'maxiter': 100})"
      ],
      "execution_count": 44,
      "outputs": [
        {
          "output_type": "execute_result",
          "data": {
            "text/plain": [
              "     fun: 7.25864589062827\n",
              "     jac: array([-0.000, 0.000])\n",
              " message: 'Converged (|f_n-f_(n-1)| ~= 0)'\n",
              "    nfev: 23\n",
              "     nit: 6\n",
              "  status: 1\n",
              " success: True\n",
              "       x: array([0.800, 0.400])"
            ]
          },
          "metadata": {
            "tags": []
          },
          "execution_count": 44
        }
      ]
    },
    {
      "cell_type": "code",
      "metadata": {
        "id": "N-MN01BNC554",
        "colab_type": "code",
        "colab": {
          "base_uri": "https://localhost:8080/",
          "height": 797
        },
        "outputId": "920a1bc7-3426-4528-f855-f4cce6266c38"
      },
      "source": [
        "xs = np.array([(5,5), (9,1), (8,2), (4,6), (7,3)])\n",
        "thetas = np.array([[0.6, 0.4], [0.5, 0.5]])\n",
        "\n",
        "tol = 0.01\n",
        "max_iter = 100\n",
        "\n",
        "ll_old = 0\n",
        "for i in range(max_iter):\n",
        "    ws_A = []\n",
        "    ws_B = []\n",
        "\n",
        "    vs_A = []\n",
        "    vs_B = []\n",
        "\n",
        "    ll_new = 0\n",
        "\n",
        "    # E-step: calculate probability distributions over possible completions\n",
        "    for x in xs:\n",
        "        #print(x)\n",
        "        # multinomial (binomial) log likelihood\n",
        "        ll_A = np.sum([x*np.log(thetas[0])])\n",
        "        ll_B = np.sum([x*np.log(thetas[1])])\n",
        "        #print(ll_A)\n",
        "        #print(ll_B)\n",
        "\n",
        "        # [EQN 1]\n",
        "        denom = np.exp(ll_A) + np.exp(ll_B)\n",
        "        w_A = np.exp(ll_A)/denom\n",
        "        w_B = np.exp(ll_B)/denom\n",
        "\n",
        "        ws_A.append(w_A)\n",
        "        ws_B.append(w_B)\n",
        "\n",
        "        # used for calculating theta\n",
        "        vs_A.append(np.dot(w_A, x))\n",
        "        vs_B.append(np.dot(w_B, x))\n",
        "        #print(vs_A)\n",
        "\n",
        "        # update complete log likelihood\n",
        "        ll_new += w_A * ll_A + w_B * ll_B\n",
        "\n",
        "    # M-step: update values for parameters given current distribution\n",
        "    # [EQN 2]\n",
        "    thetas[0] = np.sum(vs_A, 0)/np.sum(vs_A)\n",
        "    thetas[1] = np.sum(vs_B, 0)/np.sum(vs_B)\n",
        "    # print distribution of z for each x and current parameter estimate\n",
        "\n",
        "    print(\"Iteration: {}\".format(i+1))\n",
        "    print(\"theta_A = {}, theta_B = {}, ll = {}\".format(thetas[0,0], thetas[1,0], ll_new))\n",
        "    if np.abs(ll_new - ll_old) < tol:\n",
        "        break\n",
        "    ll_old = ll_new"
      ],
      "execution_count": 81,
      "outputs": [
        {
          "output_type": "stream",
          "text": [
            "[array([2.246, 2.246])]\n",
            "[array([2.246, 2.246]), array([7.245, 0.805])]\n",
            "[array([2.246, 2.246]), array([7.245, 0.805]), array([5.868, 1.467])]\n",
            "[array([2.246, 2.246]), array([7.245, 0.805]), array([5.868, 1.467]), array([1.409, 2.113])]\n",
            "[array([2.246, 2.246]), array([7.245, 0.805]), array([5.868, 1.467]), array([1.409, 2.113]), array([4.531, 1.942])]\n",
            "[array([1.479, 1.479])]\n",
            "[array([1.479, 1.479]), array([7.304, 0.812])]\n",
            "[array([1.479, 1.479]), array([7.304, 0.812]), array([5.651, 1.413])]\n",
            "[array([1.479, 1.479]), array([7.304, 0.812]), array([5.651, 1.413]), array([0.761, 1.141])]\n",
            "[array([1.479, 1.479]), array([7.304, 0.812]), array([5.651, 1.413]), array([0.761, 1.141]), array([4.015, 1.721])]\n",
            "[array([1.088, 1.088])]\n",
            "[array([1.088, 1.088]), array([7.829, 0.870])]\n",
            "[array([1.088, 1.088]), array([7.829, 0.870]), array([6.009, 1.502])]\n",
            "[array([1.088, 1.088]), array([7.829, 0.870]), array([6.009, 1.502]), array([0.446, 0.670])]\n",
            "[array([1.088, 1.088]), array([7.829, 0.870]), array([6.009, 1.502]), array([0.446, 0.670]), array([4.038, 1.731])]\n",
            "[array([0.809, 0.809])]\n",
            "[array([0.809, 0.809]), array([8.216, 0.913])]\n",
            "[array([0.809, 0.809]), array([8.216, 0.913]), array([6.354, 1.589])]\n",
            "[array([0.809, 0.809]), array([8.216, 0.913]), array([6.354, 1.589]), array([0.265, 0.398])]\n",
            "[array([0.809, 0.809]), array([8.216, 0.913]), array([6.354, 1.589]), array([0.265, 0.398]), array([4.110, 1.761])]\n",
            "[array([0.645, 0.645])]\n",
            "[array([0.645, 0.645]), array([8.418, 0.935])]\n",
            "[array([0.645, 0.645]), array([8.418, 0.935]), array([6.572, 1.643])]\n",
            "[array([0.645, 0.645]), array([8.418, 0.935]), array([6.572, 1.643]), array([0.180, 0.270])]\n",
            "[array([0.645, 0.645]), array([8.418, 0.935]), array([6.572, 1.643]), array([0.180, 0.270]), array([4.159, 1.783])]\n",
            "[array([0.568, 0.568])]\n",
            "[array([0.568, 0.568]), array([8.508, 0.945])]\n",
            "[array([0.568, 0.568]), array([8.508, 0.945]), array([6.682, 1.670])]\n",
            "[array([0.568, 0.568]), array([8.508, 0.945]), array([6.682, 1.670]), array([0.145, 0.217])]\n",
            "[array([0.568, 0.568]), array([8.508, 0.945]), array([6.682, 1.670]), array([0.145, 0.217]), array([4.186, 1.794])]\n",
            "[array([0.535, 0.535])]\n",
            "[array([0.535, 0.535]), array([8.544, 0.949])]\n",
            "[array([0.535, 0.535]), array([8.544, 0.949]), array([6.730, 1.683])]\n",
            "[array([0.535, 0.535]), array([8.544, 0.949]), array([6.730, 1.683]), array([0.131, 0.197])]\n",
            "[array([0.535, 0.535]), array([8.544, 0.949]), array([6.730, 1.683]), array([0.131, 0.197]), array([4.199, 1.800])]\n",
            "[array([0.523, 0.523])]\n",
            "[array([0.523, 0.523]), array([8.559, 0.951])]\n",
            "[array([0.523, 0.523]), array([8.559, 0.951]), array([6.750, 1.688])]\n",
            "[array([0.523, 0.523]), array([8.559, 0.951]), array([6.750, 1.688]), array([0.126, 0.189])]\n",
            "[array([0.523, 0.523]), array([8.559, 0.951]), array([6.750, 1.688]), array([0.126, 0.189]), array([4.205, 1.802])]\n",
            "[array([0.518, 0.518])]\n",
            "[array([0.518, 0.518]), array([8.564, 0.952])]\n",
            "[array([0.518, 0.518]), array([8.564, 0.952]), array([6.758, 1.690])]\n",
            "[array([0.518, 0.518]), array([8.564, 0.952]), array([6.758, 1.690]), array([0.124, 0.186])]\n",
            "[array([0.518, 0.518]), array([8.564, 0.952]), array([6.758, 1.690]), array([0.124, 0.186]), array([4.208, 1.803])]\n"
          ],
          "name": "stdout"
        }
      ]
    }
  ]
}